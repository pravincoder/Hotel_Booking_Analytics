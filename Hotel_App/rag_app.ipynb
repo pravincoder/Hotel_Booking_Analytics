{
 "cells": [
  {
   "cell_type": "code",
   "execution_count": 1,
   "metadata": {},
   "outputs": [
    {
     "name": "stdout",
     "output_type": "stream",
     "text": [
      "Collecting langchain_core\n",
      "  Using cached langchain_core-0.3.47-py3-none-any.whl.metadata (5.9 kB)\n",
      "Collecting langchain_community\n",
      "  Downloading langchain_community-0.3.20-py3-none-any.whl.metadata (2.4 kB)\n",
      "Collecting langchain_groq\n",
      "  Downloading langchain_groq-0.3.1-py3-none-any.whl.metadata (2.6 kB)\n",
      "Collecting load_dotenv\n",
      "  Downloading load_dotenv-0.1.0-py3-none-any.whl.metadata (1.9 kB)\n",
      "Requirement already satisfied: pinecone in /opt/homebrew/Caskroom/miniconda/base/envs/analysis_env/lib/python3.12/site-packages (6.0.2)\n",
      "Collecting langsmith<0.4,>=0.1.125 (from langchain_core)\n",
      "  Downloading langsmith-0.3.18-py3-none-any.whl.metadata (15 kB)\n",
      "Collecting tenacity!=8.4.0,<10.0.0,>=8.1.0 (from langchain_core)\n",
      "  Using cached tenacity-9.0.0-py3-none-any.whl.metadata (1.2 kB)\n",
      "Collecting jsonpatch<2.0,>=1.33 (from langchain_core)\n",
      "  Using cached jsonpatch-1.33-py2.py3-none-any.whl.metadata (3.0 kB)\n",
      "Requirement already satisfied: PyYAML>=5.3 in /opt/homebrew/Caskroom/miniconda/base/envs/analysis_env/lib/python3.12/site-packages (from langchain_core) (6.0.2)\n",
      "Requirement already satisfied: packaging<25,>=23.2 in /opt/homebrew/Caskroom/miniconda/base/envs/analysis_env/lib/python3.12/site-packages (from langchain_core) (24.2)\n",
      "Requirement already satisfied: typing-extensions>=4.7 in /opt/homebrew/Caskroom/miniconda/base/envs/analysis_env/lib/python3.12/site-packages (from langchain_core) (4.12.2)\n",
      "Requirement already satisfied: pydantic<3.0.0,>=2.5.2 in /opt/homebrew/Caskroom/miniconda/base/envs/analysis_env/lib/python3.12/site-packages (from langchain_core) (2.10.6)\n",
      "Collecting langchain<1.0.0,>=0.3.21 (from langchain_community)\n",
      "  Downloading langchain-0.3.21-py3-none-any.whl.metadata (7.8 kB)\n",
      "Collecting SQLAlchemy<3,>=1.4 (from langchain_community)\n",
      "  Downloading sqlalchemy-2.0.39-cp312-cp312-macosx_11_0_arm64.whl.metadata (9.6 kB)\n",
      "Requirement already satisfied: requests<3,>=2 in /opt/homebrew/Caskroom/miniconda/base/envs/analysis_env/lib/python3.12/site-packages (from langchain_community) (2.32.3)\n",
      "Collecting aiohttp<4.0.0,>=3.8.3 (from langchain_community)\n",
      "  Downloading aiohttp-3.11.14-cp312-cp312-macosx_11_0_arm64.whl.metadata (7.7 kB)\n",
      "Collecting dataclasses-json<0.7,>=0.5.7 (from langchain_community)\n",
      "  Using cached dataclasses_json-0.6.7-py3-none-any.whl.metadata (25 kB)\n",
      "Collecting pydantic-settings<3.0.0,>=2.4.0 (from langchain_community)\n",
      "  Downloading pydantic_settings-2.8.1-py3-none-any.whl.metadata (3.5 kB)\n",
      "Collecting httpx-sse<1.0.0,>=0.4.0 (from langchain_community)\n",
      "  Using cached httpx_sse-0.4.0-py3-none-any.whl.metadata (9.0 kB)\n",
      "Requirement already satisfied: numpy<3,>=1.26.2 in /opt/homebrew/Caskroom/miniconda/base/envs/analysis_env/lib/python3.12/site-packages (from langchain_community) (2.2.4)\n",
      "Requirement already satisfied: groq<1,>=0.4.1 in /opt/homebrew/Caskroom/miniconda/base/envs/analysis_env/lib/python3.12/site-packages (from langchain_groq) (0.20.0)\n",
      "Requirement already satisfied: python-dotenv in /opt/homebrew/Caskroom/miniconda/base/envs/analysis_env/lib/python3.12/site-packages (from load_dotenv) (1.0.1)\n",
      "Requirement already satisfied: certifi>=2019.11.17 in /opt/homebrew/Caskroom/miniconda/base/envs/analysis_env/lib/python3.12/site-packages (from pinecone) (2025.1.31)\n",
      "Requirement already satisfied: pinecone-plugin-interface<0.0.8,>=0.0.7 in /opt/homebrew/Caskroom/miniconda/base/envs/analysis_env/lib/python3.12/site-packages (from pinecone) (0.0.7)\n",
      "Requirement already satisfied: python-dateutil>=2.5.3 in /opt/homebrew/Caskroom/miniconda/base/envs/analysis_env/lib/python3.12/site-packages (from pinecone) (2.9.0.post0)\n",
      "Requirement already satisfied: urllib3>=1.26.5 in /opt/homebrew/Caskroom/miniconda/base/envs/analysis_env/lib/python3.12/site-packages (from pinecone) (2.3.0)\n",
      "Collecting aiohappyeyeballs>=2.3.0 (from aiohttp<4.0.0,>=3.8.3->langchain_community)\n",
      "  Downloading aiohappyeyeballs-2.6.1-py3-none-any.whl.metadata (5.9 kB)\n",
      "Collecting aiosignal>=1.1.2 (from aiohttp<4.0.0,>=3.8.3->langchain_community)\n",
      "  Using cached aiosignal-1.3.2-py2.py3-none-any.whl.metadata (3.8 kB)\n",
      "Collecting attrs>=17.3.0 (from aiohttp<4.0.0,>=3.8.3->langchain_community)\n",
      "  Using cached attrs-25.3.0-py3-none-any.whl.metadata (10 kB)\n",
      "Collecting frozenlist>=1.1.1 (from aiohttp<4.0.0,>=3.8.3->langchain_community)\n",
      "  Using cached frozenlist-1.5.0-cp312-cp312-macosx_11_0_arm64.whl.metadata (13 kB)\n",
      "Collecting multidict<7.0,>=4.5 (from aiohttp<4.0.0,>=3.8.3->langchain_community)\n",
      "  Downloading multidict-6.2.0-cp312-cp312-macosx_11_0_arm64.whl.metadata (4.9 kB)\n",
      "Collecting propcache>=0.2.0 (from aiohttp<4.0.0,>=3.8.3->langchain_community)\n",
      "  Downloading propcache-0.3.0-cp312-cp312-macosx_11_0_arm64.whl.metadata (10 kB)\n",
      "Collecting yarl<2.0,>=1.17.0 (from aiohttp<4.0.0,>=3.8.3->langchain_community)\n",
      "  Using cached yarl-1.18.3-cp312-cp312-macosx_11_0_arm64.whl.metadata (69 kB)\n",
      "Collecting marshmallow<4.0.0,>=3.18.0 (from dataclasses-json<0.7,>=0.5.7->langchain_community)\n",
      "  Downloading marshmallow-3.26.1-py3-none-any.whl.metadata (7.3 kB)\n",
      "Collecting typing-inspect<1,>=0.4.0 (from dataclasses-json<0.7,>=0.5.7->langchain_community)\n",
      "  Using cached typing_inspect-0.9.0-py3-none-any.whl.metadata (1.5 kB)\n",
      "Requirement already satisfied: anyio<5,>=3.5.0 in /opt/homebrew/Caskroom/miniconda/base/envs/analysis_env/lib/python3.12/site-packages (from groq<1,>=0.4.1->langchain_groq) (4.9.0)\n",
      "Requirement already satisfied: distro<2,>=1.7.0 in /opt/homebrew/Caskroom/miniconda/base/envs/analysis_env/lib/python3.12/site-packages (from groq<1,>=0.4.1->langchain_groq) (1.9.0)\n",
      "Requirement already satisfied: httpx<1,>=0.23.0 in /opt/homebrew/Caskroom/miniconda/base/envs/analysis_env/lib/python3.12/site-packages (from groq<1,>=0.4.1->langchain_groq) (0.28.1)\n",
      "Requirement already satisfied: sniffio in /opt/homebrew/Caskroom/miniconda/base/envs/analysis_env/lib/python3.12/site-packages (from groq<1,>=0.4.1->langchain_groq) (1.3.1)\n",
      "Collecting jsonpointer>=1.9 (from jsonpatch<2.0,>=1.33->langchain_core)\n",
      "  Using cached jsonpointer-3.0.0-py2.py3-none-any.whl.metadata (2.3 kB)\n",
      "Collecting langchain-text-splitters<1.0.0,>=0.3.7 (from langchain<1.0.0,>=0.3.21->langchain_community)\n",
      "  Downloading langchain_text_splitters-0.3.7-py3-none-any.whl.metadata (1.9 kB)\n",
      "Collecting orjson<4.0.0,>=3.9.14 (from langsmith<0.4,>=0.1.125->langchain_core)\n",
      "  Using cached orjson-3.10.15-cp312-cp312-macosx_10_15_x86_64.macosx_11_0_arm64.macosx_10_15_universal2.whl.metadata (41 kB)\n",
      "Collecting requests-toolbelt<2.0.0,>=1.0.0 (from langsmith<0.4,>=0.1.125->langchain_core)\n",
      "  Using cached requests_toolbelt-1.0.0-py2.py3-none-any.whl.metadata (14 kB)\n",
      "Collecting zstandard<0.24.0,>=0.23.0 (from langsmith<0.4,>=0.1.125->langchain_core)\n",
      "  Using cached zstandard-0.23.0-cp312-cp312-macosx_11_0_arm64.whl.metadata (3.0 kB)\n",
      "Requirement already satisfied: annotated-types>=0.6.0 in /opt/homebrew/Caskroom/miniconda/base/envs/analysis_env/lib/python3.12/site-packages (from pydantic<3.0.0,>=2.5.2->langchain_core) (0.7.0)\n",
      "Requirement already satisfied: pydantic-core==2.27.2 in /opt/homebrew/Caskroom/miniconda/base/envs/analysis_env/lib/python3.12/site-packages (from pydantic<3.0.0,>=2.5.2->langchain_core) (2.27.2)\n",
      "Requirement already satisfied: six>=1.5 in /opt/homebrew/Caskroom/miniconda/base/envs/analysis_env/lib/python3.12/site-packages (from python-dateutil>=2.5.3->pinecone) (1.17.0)\n",
      "Requirement already satisfied: charset-normalizer<4,>=2 in /opt/homebrew/Caskroom/miniconda/base/envs/analysis_env/lib/python3.12/site-packages (from requests<3,>=2->langchain_community) (3.4.1)\n",
      "Requirement already satisfied: idna<4,>=2.5 in /opt/homebrew/Caskroom/miniconda/base/envs/analysis_env/lib/python3.12/site-packages (from requests<3,>=2->langchain_community) (3.10)\n",
      "Requirement already satisfied: httpcore==1.* in /opt/homebrew/Caskroom/miniconda/base/envs/analysis_env/lib/python3.12/site-packages (from httpx<1,>=0.23.0->groq<1,>=0.4.1->langchain_groq) (1.0.7)\n",
      "Requirement already satisfied: h11<0.15,>=0.13 in /opt/homebrew/Caskroom/miniconda/base/envs/analysis_env/lib/python3.12/site-packages (from httpcore==1.*->httpx<1,>=0.23.0->groq<1,>=0.4.1->langchain_groq) (0.14.0)\n",
      "Collecting mypy-extensions>=0.3.0 (from typing-inspect<1,>=0.4.0->dataclasses-json<0.7,>=0.5.7->langchain_community)\n",
      "  Using cached mypy_extensions-1.0.0-py3-none-any.whl.metadata (1.1 kB)\n",
      "Using cached langchain_core-0.3.47-py3-none-any.whl (417 kB)\n",
      "Downloading langchain_community-0.3.20-py3-none-any.whl (2.5 MB)\n",
      "\u001b[2K   \u001b[90m━━━━━━━━━━━━━━━━━━━━━━━━━━━━━━━━━━━━━━━━\u001b[0m \u001b[32m2.5/2.5 MB\u001b[0m \u001b[31m1.5 MB/s\u001b[0m eta \u001b[36m0:00:00\u001b[0ma \u001b[36m0:00:01\u001b[0m\n",
      "\u001b[?25hDownloading langchain_groq-0.3.1-py3-none-any.whl (15 kB)\n",
      "Downloading load_dotenv-0.1.0-py3-none-any.whl (7.2 kB)\n",
      "Downloading aiohttp-3.11.14-cp312-cp312-macosx_11_0_arm64.whl (456 kB)\n",
      "Using cached dataclasses_json-0.6.7-py3-none-any.whl (28 kB)\n",
      "Using cached httpx_sse-0.4.0-py3-none-any.whl (7.8 kB)\n",
      "Using cached jsonpatch-1.33-py2.py3-none-any.whl (12 kB)\n",
      "Downloading langchain-0.3.21-py3-none-any.whl (1.0 MB)\n",
      "\u001b[2K   \u001b[90m━━━━━━━━━━━━━━━━━━━━━━━━━━━━━━━━━━━━━━━━\u001b[0m \u001b[32m1.0/1.0 MB\u001b[0m \u001b[31m1.7 MB/s\u001b[0m eta \u001b[36m0:00:00\u001b[0ma \u001b[36m0:00:01\u001b[0m\n",
      "\u001b[?25hDownloading langsmith-0.3.18-py3-none-any.whl (351 kB)\n",
      "Downloading pydantic_settings-2.8.1-py3-none-any.whl (30 kB)\n",
      "Downloading sqlalchemy-2.0.39-cp312-cp312-macosx_11_0_arm64.whl (2.1 MB)\n",
      "\u001b[2K   \u001b[90m━━━━━━━━━━━━━━━━━━━━━━━━━━━━━━━━━━━━━━━━\u001b[0m \u001b[32m2.1/2.1 MB\u001b[0m \u001b[31m1.3 MB/s\u001b[0m eta \u001b[36m0:00:00\u001b[0ma \u001b[36m0:00:01\u001b[0m\n",
      "\u001b[?25hUsing cached tenacity-9.0.0-py3-none-any.whl (28 kB)\n",
      "Downloading aiohappyeyeballs-2.6.1-py3-none-any.whl (15 kB)\n",
      "Using cached aiosignal-1.3.2-py2.py3-none-any.whl (7.6 kB)\n",
      "Using cached attrs-25.3.0-py3-none-any.whl (63 kB)\n",
      "Using cached frozenlist-1.5.0-cp312-cp312-macosx_11_0_arm64.whl (51 kB)\n",
      "Using cached jsonpointer-3.0.0-py2.py3-none-any.whl (7.6 kB)\n",
      "Downloading langchain_text_splitters-0.3.7-py3-none-any.whl (32 kB)\n",
      "Downloading marshmallow-3.26.1-py3-none-any.whl (50 kB)\n",
      "Downloading multidict-6.2.0-cp312-cp312-macosx_11_0_arm64.whl (30 kB)\n",
      "Using cached orjson-3.10.15-cp312-cp312-macosx_10_15_x86_64.macosx_11_0_arm64.macosx_10_15_universal2.whl (249 kB)\n",
      "Downloading propcache-0.3.0-cp312-cp312-macosx_11_0_arm64.whl (45 kB)\n",
      "Using cached requests_toolbelt-1.0.0-py2.py3-none-any.whl (54 kB)\n",
      "Using cached typing_inspect-0.9.0-py3-none-any.whl (8.8 kB)\n",
      "Using cached yarl-1.18.3-cp312-cp312-macosx_11_0_arm64.whl (92 kB)\n",
      "Using cached zstandard-0.23.0-cp312-cp312-macosx_11_0_arm64.whl (633 kB)\n",
      "Using cached mypy_extensions-1.0.0-py3-none-any.whl (4.7 kB)\n",
      "Installing collected packages: zstandard, tenacity, SQLAlchemy, propcache, orjson, mypy-extensions, multidict, marshmallow, load_dotenv, jsonpointer, httpx-sse, frozenlist, attrs, aiohappyeyeballs, yarl, typing-inspect, requests-toolbelt, jsonpatch, aiosignal, pydantic-settings, langsmith, dataclasses-json, aiohttp, langchain_core, langchain-text-splitters, langchain_groq, langchain, langchain_community\n",
      "Successfully installed SQLAlchemy-2.0.39 aiohappyeyeballs-2.6.1 aiohttp-3.11.14 aiosignal-1.3.2 attrs-25.3.0 dataclasses-json-0.6.7 frozenlist-1.5.0 httpx-sse-0.4.0 jsonpatch-1.33 jsonpointer-3.0.0 langchain-0.3.21 langchain-text-splitters-0.3.7 langchain_community-0.3.20 langchain_core-0.3.47 langchain_groq-0.3.1 langsmith-0.3.18 load_dotenv-0.1.0 marshmallow-3.26.1 multidict-6.2.0 mypy-extensions-1.0.0 orjson-3.10.15 propcache-0.3.0 pydantic-settings-2.8.1 requests-toolbelt-1.0.0 tenacity-9.0.0 typing-inspect-0.9.0 yarl-1.18.3 zstandard-0.23.0\n"
     ]
    }
   ],
   "source": [
    "! pip install langchain_core langchain_community langchain_groq load_dotenv pinecone"
   ]
  },
  {
   "cell_type": "code",
   "execution_count": 7,
   "metadata": {},
   "outputs": [
    {
     "name": "stderr",
     "output_type": "stream",
     "text": [
      "/opt/homebrew/Caskroom/miniconda/base/envs/analysis_env/lib/python3.12/site-packages/tqdm/auto.py:21: TqdmWarning: IProgress not found. Please update jupyter and ipywidgets. See https://ipywidgets.readthedocs.io/en/stable/user_install.html\n",
      "  from .autonotebook import tqdm as notebook_tqdm\n"
     ]
    },
    {
     "data": {
      "text/plain": [
       "True"
      ]
     },
     "execution_count": 7,
     "metadata": {},
     "output_type": "execute_result"
    }
   ],
   "source": [
    "from langchain_core.prompts import ChatPromptTemplate\n",
    "from langchain_community.document_loaders import TextLoader\n",
    "from langchain_groq import ChatGroq\n",
    "from load_dotenv import load_dotenv\n",
    "from pinecone import Pinecone ,ServerlessSpec\n",
    "import re \n",
    "import os\n",
    "load_dotenv()"
   ]
  },
  {
   "cell_type": "code",
   "execution_count": null,
   "metadata": {},
   "outputs": [],
   "source": [
    "def clean_text(text: str) -> str:\n",
    "    \"\"\"Clean the text from the input file.\n",
    "    Args:\n",
    "        text (str): The text to clean.\n",
    "    Returns:\n",
    "        str: The cleaned text.\n",
    "    \"\"\"\n",
    "    # Remove carriage returns\n",
    "    text = text.replace(\"\\r\", \"\")\n",
    "\n",
    "    # Remove extra spaces\n",
    "    text = re.sub(\" +\", \" \", text)\n",
    "\n",
    "    # Replace multiple newlines with a single newline\n",
    "    text = re.sub(\"\\n+\", \"\\n\", text)\n",
    "\n",
    "    # Remove leading and trailing whitespace\n",
    "    text = text.strip()\n",
    "\n",
    "    # Remove unwanted characters (non-ASCII characters)\n",
    "    text = \"\".join(i for i in text if ord(i) < 128)\n",
    "\n",
    "    # remove multiple punctuations with a single punctuation\n",
    "    text = re.sub(r'(\\W)\\1+', r'\\1', text)\n",
    "\n",
    "    return text\n",
    "\n"
   ]
  },
  {
   "cell_type": "code",
   "execution_count": 3,
   "metadata": {},
   "outputs": [],
   "source": [
    "def get_text_from_file(file_path: str) -> str:\n",
    "    \"\"\"Read the text from the input file.\n",
    "    Args:\n",
    "        file_path (str): The path to the input file.\n",
    "    Returns:\n",
    "        str: The text read from the input file.\n",
    "    \"\"\"\n",
    "    with open(file_path, \"r\") as file:\n",
    "        text = file.read()\n",
    "    return text"
   ]
  },
  {
   "cell_type": "code",
   "execution_count": 5,
   "metadata": {},
   "outputs": [
    {
     "data": {
      "text/plain": [
       "'Hotel Bookings Detailed Report\\n\\nData covers from 2015-07-01 to 2017-08-31\\n\\nTotal Bookings- 119390\\nNon-Canceled Bookings- 75166\\n\\nMonthly revenues-\\n2015-07- 758339.79\\n2015-08- 1137652.71\\n2015-09- 1054620.67\\n2015-10- 784714.88\\n2015-11- 346709.49\\n2015-12- 429521.57\\n2016-01- 264521.38\\n2016-02- 484170.72\\n2016-03- 767337.42\\n2016-04- 896591.38\\n2016-05- 1073277.63\\n2016-06- 1144800.38\\n2016-07- 1525019.05\\n2016-08- 1809324.75\\n2016-09- 1289642.69\\n2016-10- 1072101.84\\n2016-11- 688843.47\\n2016-12- 657870.72\\n2017-01- 512155.46\\n2017-02- 663370.76\\n2017-03- 884761.17\\n2017-04- 1203266.10\\n2017-05- 1321936.01\\n2017-06- 1438490.54\\n2017-07- 1817038.23\\n2017-08- 1970181.60\\n\\nOverall Cancellation Rate- 37.04%\\n\\nTop 10 Countries by Booking Percentage-\\nPRT- 40.70%\\nGBR- 10.16%\\nFRA- 8.72%\\nESP- 7.18%\\nDEU- 6.10%\\nITA- 3.15%\\nIRL- 2.83%\\nBEL- 1.96%\\nBRA- 1.86%\\nNLD- 1.76%\\n\\nLead Time Distribution-\\ncount- 119390.0\\nmean- 104.01141636652986\\nstd- 106.86309704798794\\nmin- 0.0\\n25%- 18.0\\n50%- 69.0\\n75%- 160.0\\nmax- 737.0\\n\\nAverage Adults per Booking (all)- 1.86\\nAverage Adults per Booking (non-canceled)- 1.83\\n\\nTotal Weekend Nights- 69827\\nTotal Weekday Nights- 69827\\nTotal Nights- 139654\\nWeekend Percentage- 50.00%\\nWeekday Percentage- 50.00%\\n\\nCustomer type distribution-\\nTransient- 75.06%\\nTransient-Party- 21.04%\\nContract- 3.41%\\nGroup- 0.48%\\n\\nHotel Total Revenue-\\nHotel- City Hotel, Total Revenue- 14394410.18\\nHotel- Resort Hotel, Total Revenue- 11601850.23\\n\\nHotel Cancellation Rate-\\nHotel- City Hotel, Cancellation Rate- 41.73%\\nHotel- Resort Hotel, Cancellation Rate- 27.76%\\n\\nMeal Type Distribution-\\nBB- 77.32%\\nHB- 12.11%\\nSC- 8.92%\\nUndefined- 0.98%\\nFB- 0.67%\\n\\nAverage Daily Rate (ADR) for non-canceled bookings- 99.99\\n\\nBooking Changes Distribution-\\ncount- 119390.0\\nmean- 0.22112404724013737\\nstd- 0.6523055726747721\\nmin- 0.0\\n25%- 0.0\\n50%- 0.0\\n75%- 0.0\\nmax- 21.0'"
      ]
     },
     "execution_count": 5,
     "metadata": {},
     "output_type": "execute_result"
    }
   ],
   "source": [
    "# read hotel_booking.txt file\n",
    "file_path = \"hotel_bookings_detailed_report.txt\"\n",
    "text = get_text_from_file(file_path)\n",
    "text"
   ]
  },
  {
   "cell_type": "code",
   "execution_count": 8,
   "metadata": {},
   "outputs": [
    {
     "data": {
      "text/plain": [
       "'Hotel Bookings Detailed Report\\nData covers from 2015-07-01 to 2017-08-31\\nTotal Bookings- 119390\\nNon-Canceled Bookings- 75166\\nMonthly revenues-\\n2015-07- 758339.79\\n2015-08- 1137652.71\\n2015-09- 1054620.67\\n2015-10- 784714.88\\n2015-11- 346709.49\\n2015-12- 429521.57\\n2016-01- 264521.38\\n2016-02- 484170.72\\n2016-03- 767337.42\\n2016-04- 896591.38\\n2016-05- 1073277.63\\n2016-06- 1144800.38\\n2016-07- 1525019.05\\n2016-08- 1809324.75\\n2016-09- 1289642.69\\n2016-10- 1072101.84\\n2016-11- 688843.47\\n2016-12- 657870.72\\n2017-01- 512155.46\\n2017-02- 663370.76\\n2017-03- 884761.17\\n2017-04- 1203266.10\\n2017-05- 1321936.01\\n2017-06- 1438490.54\\n2017-07- 1817038.23\\n2017-08- 1970181.60\\nOverall Cancellation Rate- 37.04%\\nTop 10 Countries by Booking Percentage-\\nPRT- 40.70%\\nGBR- 10.16%\\nFRA- 8.72%\\nESP- 7.18%\\nDEU- 6.10%\\nITA- 3.15%\\nIRL- 2.83%\\nBEL- 1.96%\\nBRA- 1.86%\\nNLD- 1.76%\\nLead Time Distribution-\\ncount- 119390.0\\nmean- 104.01141636652986\\nstd- 106.86309704798794\\nmin- 0.0\\n25%- 18.0\\n50%- 69.0\\n75%- 160.0\\nmax- 737.0\\nAverage Adults per Booking (all)- 1.86\\nAverage Adults per Booking (non-canceled)- 1.83\\nTotal Weekend Nights- 69827\\nTotal Weekday Nights- 69827\\nTotal Nights- 139654\\nWeekend Percentage- 50.00%\\nWeekday Percentage- 50.00%\\nCustomer type distribution-\\nTransient- 75.06%\\nTransient-Party- 21.04%\\nContract- 3.41%\\nGroup- 0.48%\\nHotel Total Revenue-\\nHotel- City Hotel, Total Revenue- 14394410.18\\nHotel- Resort Hotel, Total Revenue- 11601850.23\\nHotel Cancellation Rate-\\nHotel- City Hotel, Cancellation Rate- 41.73%\\nHotel- Resort Hotel, Cancellation Rate- 27.76%\\nMeal Type Distribution-\\nBB- 77.32%\\nHB- 12.11%\\nSC- 8.92%\\nUndefined- 0.98%\\nFB- 0.67%\\nAverage Daily Rate (ADR) for non-canceled bookings- 99.99\\nBooking Changes Distribution-\\ncount- 119390.0\\nmean- 0.22112404724013737\\nstd- 0.6523055726747721\\nmin- 0.0\\n25%- 0.0\\n50%- 0.0\\n75%- 0.0\\nmax- 21.0'"
      ]
     },
     "execution_count": 8,
     "metadata": {},
     "output_type": "execute_result"
    }
   ],
   "source": [
    "clean_text(text)"
   ]
  },
  {
   "cell_type": "code",
   "execution_count": null,
   "metadata": {},
   "outputs": [],
   "source": [
    "# Get info about the text file"
   ]
  }
 ],
 "metadata": {
  "kernelspec": {
   "display_name": "analysis_env",
   "language": "python",
   "name": "python3"
  },
  "language_info": {
   "codemirror_mode": {
    "name": "ipython",
    "version": 3
   },
   "file_extension": ".py",
   "mimetype": "text/x-python",
   "name": "python",
   "nbconvert_exporter": "python",
   "pygments_lexer": "ipython3",
   "version": "3.12.0"
  }
 },
 "nbformat": 4,
 "nbformat_minor": 2
}
