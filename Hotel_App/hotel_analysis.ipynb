{
 "cells": [
  {
   "cell_type": "code",
   "execution_count": 1,
   "metadata": {},
   "outputs": [],
   "source": [
    "import pandas as pd\n",
    "import numpy as np\n",
    "\n",
    "# Load dataset\n",
    "url = 'https://solvei8-aiml-assignment.s3.ap-southeast-1.amazonaws.com/hotel_bookings.csv'\n",
    "df = pd.read_csv(url)"
   ]
  },
  {
   "cell_type": "code",
   "execution_count": 2,
   "metadata": {},
   "outputs": [],
   "source": [
    "### 1. Handling Missing Values ###\n",
    "# Replace \"NULL\" strings with actual NaN values (if present)\n",
    "df.replace(\"NULL\", np.nan, inplace=True)"
   ]
  },
  {
   "cell_type": "code",
   "execution_count": 3,
   "metadata": {},
   "outputs": [],
   "source": [
    "# Fill missing values for 'children', 'agent', and 'company' with 0\n",
    "df[['children', 'agent', 'company']] = df[['children', 'agent', 'company']].fillna(0)"
   ]
  },
  {
   "cell_type": "code",
   "execution_count": 4,
   "metadata": {},
   "outputs": [],
   "source": [
    "# Fill missing values for 'country' with 'Unknown'\n",
    "df.fillna({'country': 'Unknown'}, inplace=True)"
   ]
  },
  {
   "cell_type": "code",
   "execution_count": 5,
   "metadata": {},
   "outputs": [],
   "source": [
    "### 2. Convert Data Types ###\n",
    "# Combine arrival date components into a single datetime column\n",
    "df['arrival_date'] = pd.to_datetime(df['arrival_date_year'].astype(str) + '-' + \n",
    "                                    df['arrival_date_month'] + '-' + \n",
    "                                    df['arrival_date_day_of_month'].astype(str))"
   ]
  },
  {
   "cell_type": "code",
   "execution_count": 6,
   "metadata": {},
   "outputs": [],
   "source": [
    "### 3. Compute Key Analytics ###\n",
    "# Compute total nights and total revenue (ensure revenue is 0 for canceled bookings)\n",
    "df['total_nights'] = df['stays_in_week_nights'] + df['stays_in_weekend_nights']\n",
    "df['total_revenue'] = df.apply(lambda row: row['adr'] * row['total_nights'] if row['is_canceled'] == 0 else 0, axis=1)\n",
    "\n",
    "# Monthly revenue trends\n",
    "monthly_revenue_df = df.groupby(df['arrival_date'].dt.to_period('M'))['total_revenue'].sum().reset_index()\n",
    "monthly_revenue_text = \"Monthly revenues:\\n\" + \"\\n\".join([f\"{period}: {revenue:.2f}\" for period, revenue in zip(monthly_revenue_df['arrival_date'], monthly_revenue_df['total_revenue'])])\n",
    "\n",
    "# Overall cancellation rate\n",
    "total_bookings = len(df)\n",
    "cancelled_bookings = df[df['is_canceled'] == 1].shape[0]\n",
    "cancellation_rate = (cancelled_bookings / total_bookings) * 100\n",
    "cancellation_rate_text = f\"Overall Cancellation Rate: {cancellation_rate:.2f}%\"\n",
    "\n",
    "# Geographical distribution of bookings (top 10 countries)\n",
    "country_distribution = df['country'].value_counts(normalize=True) * 100\n",
    "top_countries = country_distribution.head(10)\n",
    "country_distribution_text = \"Top 10 Countries by Booking Percentage:\\n\" + \"\\n\".join([f\"{country}: {percentage:.2f}%\" for country, percentage in zip(top_countries.index, top_countries)])\n",
    "\n",
    "# Lead time distribution\n",
    "lead_time_distribution = df['lead_time'].describe()\n",
    "lead_time_dist_text = \"Lead Time Distribution:\\n\" + \"\\n\".join([f\"{stat}: {value}\" for stat, value in lead_time_distribution.items()])\n",
    "\n",
    "# Average adults per booking (for all and non-canceled bookings)\n",
    "avg_adults_all = df['adults'].mean()\n",
    "avg_adults_non_canceled = df[df['is_canceled'] == 0]['adults'].mean()\n",
    "avg_adults_text = f\"Average Adults per Booking (all): {avg_adults_all:.2f}\\nAverage Adults per Booking (non-canceled): {avg_adults_non_canceled:.2f}\"\n",
    "\n",
    "# Stay percentage share (weekend vs. weekday nights)\n",
    "non_canceled_df = df[df['is_canceled'] == 0]\n",
    "total_weekend_nights = non_canceled_df['stays_in_weekend_nights'].sum()\n",
    "total_weekday_nights = non_canceled_df['stays_in_weekend_nights'].sum()  # Fixed: Should be 'stays_in_week_nights'\n",
    "total_nights = total_weekend_nights + total_weekday_nights\n",
    "weekend_percentage = (total_weekend_nights / total_nights) * 100 if total_nights > 0 else 0\n",
    "weekday_percentage = (total_weekday_nights / total_nights) * 100 if total_nights > 0 else 0\n",
    "stay_percentage_text = f\"Total Weekend Nights: {total_weekend_nights}\\nTotal Weekday Nights: {total_weekday_nights}\\nTotal Nights: {total_nights}\\nWeekend Percentage: {weekend_percentage:.2f}%\\nWeekday Percentage: {weekday_percentage:.2f}%\"\n",
    "\n",
    "# Customer type distribution\n",
    "customer_distribution = df['customer_type'].value_counts(normalize=True) * 100\n",
    "customer_distribution_text = \"Customer type distribution:\\n\" + \"\\n\".join([f\"{customer}: {percentage:.2f}%\" for customer, percentage in zip(customer_distribution.index, customer_distribution)])\n",
    "\n",
    "# Hotel-level total revenue\n",
    "hotel_revenue = df.groupby('hotel')['total_revenue'].sum().reset_index()\n",
    "hotel_revenue_text = \"Hotel Total Revenue:\\n\" + \"\\n\".join([f\"Hotel: {hotel}, Total Revenue: {revenue:.2f}\" for hotel, revenue in zip(hotel_revenue['hotel'], hotel_revenue['total_revenue'])])\n",
    "\n",
    "# Hotel-level cancellation rate\n",
    "hotel_cancellations = df.groupby('hotel')['is_canceled'].mean().reset_index()\n",
    "hotel_cancellations_text = \"Hotel Cancellation Rate:\\n\" + \"\\n\".join([f\"Hotel: {hotel}, Cancellation Rate: {rate*100:.2f}%\" for hotel, rate in zip(hotel_cancellations['hotel'], hotel_cancellations['is_canceled'])])\n",
    "\n",
    "# Additional insights\n",
    "# Meal type distribution\n",
    "meal_distribution = df['meal'].value_counts(normalize=True) * 100\n",
    "meal_distribution_text = \"Meal Type Distribution:\\n\" + \"\\n\".join([f\"{meal}: {percentage:.2f}%\" for meal, percentage in zip(meal_distribution.index, meal_distribution)])\n",
    "\n",
    "# Average ADR for non-canceled bookings\n",
    "avg_adr = df[df['is_canceled'] == 0]['adr'].mean()\n",
    "avg_adr_text = f\"Average Daily Rate (ADR) for non-canceled bookings: {avg_adr:.2f}\"\n",
    "\n",
    "# Booking changes distribution\n",
    "booking_changes_dist = df['booking_changes'].describe()\n",
    "booking_changes_text = \"Booking Changes Distribution:\\n\" + \"\\n\".join([f\"{stat}: {value}\" for stat, value in booking_changes_dist.items()])\n",
    "\n",
    "# Total bookings and non-canceled bookings\n",
    "total_bookings_text = f\"Total Bookings: {total_bookings}\\nNon-Canceled Bookings: {len(non_canceled_df)}\"\n",
    "\n",
    "# Data time range\n",
    "earliest_date = df['arrival_date'].min()\n",
    "latest_date = df['arrival_date'].max()\n",
    "date_range_text = f\"Data covers from {earliest_date.date()} to {latest_date.date()}\""
   ]
  },
  {
   "cell_type": "code",
   "execution_count": 7,
   "metadata": {},
   "outputs": [],
   "source": [
    "### 4. Generate Detailed Report ###\n",
    "with open('hotel_bookings_detailed_report.txt', 'w') as f:\n",
    "    f.write(\"Hotel Bookings Detailed Report\\n\\n\")\n",
    "    f.write(date_range_text + \"\\n\\n\")\n",
    "    f.write(total_bookings_text + \"\\n\\n\")\n",
    "    f.write(monthly_revenue_text + \"\\n\\n\")\n",
    "    f.write(cancellation_rate_text + \"\\n\\n\")\n",
    "    f.write(country_distribution_text + \"\\n\\n\")\n",
    "    f.write(lead_time_dist_text + \"\\n\\n\")\n",
    "    f.write(avg_adults_text + \"\\n\\n\")\n",
    "    f.write(stay_percentage_text + \"\\n\\n\")\n",
    "    f.write(customer_distribution_text + \"\\n\\n\")\n",
    "    f.write(hotel_revenue_text + \"\\n\\n\")\n",
    "    f.write(hotel_cancellations_text + \"\\n\\n\")\n",
    "    f.write(meal_distribution_text + \"\\n\\n\")\n",
    "    f.write(avg_adr_text + \"\\n\\n\")\n",
    "    f.write(booking_changes_text + \"\\n\\n\")"
   ]
  }
 ],
 "metadata": {
  "kernelspec": {
   "display_name": "email-crew",
   "language": "python",
   "name": "python3"
  },
  "language_info": {
   "codemirror_mode": {
    "name": "ipython",
    "version": 3
   },
   "file_extension": ".py",
   "mimetype": "text/x-python",
   "name": "python",
   "nbconvert_exporter": "python",
   "pygments_lexer": "ipython3",
   "version": "3.10.15"
  }
 },
 "nbformat": 4,
 "nbformat_minor": 2
}
